{
 "cells": [
  {
   "cell_type": "code",
   "execution_count": 60,
   "source": [
    "\r\n",
    "\r\n",
    "import tensorflow as tf\r\n",
    "import random\r\n",
    "from tensorflow.keras.models import Sequential\r\n",
    "from tensorflow.keras.layers import Dense, Dropout, LSTM, ELU\r\n",
    "import numpy as np\r\n",
    "\r\n",
    "from matplotlib import pyplot\r\n",
    "\r\n",
    "\r\n",
    "import sys\r\n",
    "\r\n"
   ],
   "outputs": [],
   "metadata": {}
  },
  {
   "cell_type": "code",
   "execution_count": 61,
   "source": [
    "py_ver = sys.version;\r\n",
    "tf_ver = tf.version.VERSION;\r\n",
    "np_ver = np.version.version;\r\n",
    "\r\n",
    "required_py_ver = \"3.9.5\";\r\n",
    "required_tf_ver = \"2.5.0\";\r\n",
    "required_np_ver = \"1.19.5\";\r\n",
    "\r\n",
    "print(f'Using python version: {py_ver}');\r\n",
    "print(f'Using TensorFlow version: {tf_ver}');\r\n",
    "print(f'Using numpy version: {np_ver}');\r\n",
    "\r\n",
    "if not(py_ver[:5] == required_py_ver and tf_ver == required_tf_ver and np_ver == required_np_ver ):\r\n",
    "    raise Exception(f\"\\nIncorrect versions!\\n\\nShould be:\\nPython: {required_py_ver}\\nTensorFlow: {required_tf_ver}\\nNumpy: {required_np_ver} \");\r\n",
    "  \r\n"
   ],
   "outputs": [
    {
     "output_type": "stream",
     "name": "stdout",
     "text": [
      "Using python version: 3.9.5 (tags/v3.9.5:0a7dcbd, May  3 2021, 17:27:52) [MSC v.1928 64 bit (AMD64)]\n",
      "Using TensorFlow version: 2.5.0\n",
      "Using numpy version: 1.19.5\n"
     ]
    }
   ],
   "metadata": {}
  },
  {
   "cell_type": "code",
   "execution_count": 62,
   "source": [
    "# load in the data \r\n",
    "\r\n",
    "full_dataset = np.load(\"ml_dataset.npy\");"
   ],
   "outputs": [],
   "metadata": {}
  },
  {
   "cell_type": "code",
   "execution_count": 63,
   "source": [
    "# split up the data into the x and y halves\r\n",
    "\r\n",
    "x_set = full_dataset[0];\r\n",
    "y_set = full_dataset[1];"
   ],
   "outputs": [],
   "metadata": {}
  },
  {
   "cell_type": "code",
   "execution_count": 64,
   "source": [
    "# split the data into training and testing sets\r\n",
    "\r\n",
    "\r\n",
    "half = int(len(x_set)/2);\r\n",
    "\r\n",
    "print(f'half: {half}');\r\n",
    "'''\r\n",
    "x_train = x_set[0:half];\r\n",
    "x_test = x_set[half:];\r\n",
    "\r\n",
    "y_train = y_set[0:half];\r\n",
    "y_test = y_set[half:];\r\n",
    "'''\r\n",
    "\r\n",
    "\r\n",
    "x_train = x_set[::2];\r\n",
    "x_test = x_set[1::2];\r\n",
    "\r\n",
    "y_train = y_set[::2];\r\n",
    "y_test = y_set[1::2];\r\n"
   ],
   "outputs": [
    {
     "output_type": "stream",
     "name": "stdout",
     "text": [
      "half: 151\n"
     ]
    }
   ],
   "metadata": {}
  },
  {
   "cell_type": "code",
   "execution_count": 65,
   "source": [
    "# print some data diagnostics to ensure we correctly obtained data sets\r\n",
    "\r\n",
    "print(f\"x_set shape: {x_set.shape}\");\r\n",
    "print(f\"y_set shape: {y_set.shape}\");\r\n",
    "\r\n",
    "\r\n",
    "training_point_number = x_set.shape[1];\r\n",
    "print(f\"number of points in each graph set: {training_point_number}\");\r\n",
    "\r\n",
    "\r\n",
    "print(\"number of x training data sets:\");\r\n",
    "print(len(x_train[0:]));\r\n",
    "\r\n",
    "\r\n",
    "print(\"number of y training data sets:\");\r\n",
    "print(len(y_train[0:]));\r\n",
    "\r\n",
    "assert(len(x_train) == len(y_train));\r\n",
    "assert(len(x_test) == len(y_test));\r\n",
    "assert(x_set.shape == y_set.shape);\r\n",
    "\r\n",
    "print(f\"\\nNumber of training graph-solution sets: {len(x_train)}\")\r\n",
    "\r\n",
    "\r\n",
    "print(f\"Number of testing graph-solution sets: {len(x_test)}\")\r\n",
    "\r\n",
    "\r\n",
    "\r\n",
    "print(f\"\\nDataset shape: {x_set.shape}\")\r\n",
    "\r\n"
   ],
   "outputs": [
    {
     "output_type": "stream",
     "name": "stdout",
     "text": [
      "x_set shape: (302, 500)\n",
      "y_set shape: (302, 500)\n",
      "number of points in each graph set: 500\n",
      "number of x training data sets:\n",
      "151\n",
      "number of y training data sets:\n",
      "151\n",
      "\n",
      "Number of training graph-solution sets: 151\n",
      "Number of testing graph-solution sets: 151\n",
      "\n",
      "Dataset shape: (302, 500)\n"
     ]
    }
   ],
   "metadata": {}
  },
  {
   "cell_type": "code",
   "execution_count": 66,
   "source": [
    "# reshape the x data into a column of 1 element rows for the LSTM\r\n",
    "\r\n",
    "\r\n",
    "x_train = x_train.reshape(x_train.shape[0],training_point_number,1);\r\n",
    "x_test = x_test.reshape(x_test.shape[0],training_point_number,1);\r\n",
    "\r\n",
    "print(x_train.shape)"
   ],
   "outputs": [
    {
     "output_type": "stream",
     "name": "stdout",
     "text": [
      "(151, 500, 1)\n"
     ]
    }
   ],
   "metadata": {}
  },
  {
   "cell_type": "code",
   "execution_count": 67,
   "source": [
    "#build the model by stacking layers\r\n",
    "\r\n",
    "\r\n",
    "model = tf.keras.models.Sequential()\r\n",
    "\r\n",
    "model.add(LSTM(training_point_number));\r\n",
    "\r\n",
    "\r\n",
    "model.add(Dense(training_point_number,activation='tanh'));\r\n",
    "\r\n",
    "model.add(Dense(training_point_number,activation='exponential'));\r\n",
    "\r\n",
    "\r\n",
    "print(\"model built\");\r\n"
   ],
   "outputs": [
    {
     "output_type": "stream",
     "name": "stdout",
     "text": [
      "model built\n"
     ]
    }
   ],
   "metadata": {}
  },
  {
   "cell_type": "code",
   "execution_count": 68,
   "source": [
    "#print(y_train[0])"
   ],
   "outputs": [],
   "metadata": {}
  },
  {
   "cell_type": "code",
   "execution_count": 69,
   "source": [
    "# get the predictions for the second datapoint\r\n",
    "predictions = model(x_train)\r\n",
    "\r\n",
    "# print the raw predictions for that datapoint. Note that these are \"logits\" or \"log-odds\" scores, which is related to the probability, \r\n",
    "# and also is the inverse of the sigmoid function\r\n",
    "print(\"logits prediction: \");\r\n",
    "print(predictions[0]);\r\n",
    "\r\n",
    "# we can use the softmax function to convert these logits to probabilities for each preciction class\r\n",
    "#print(\"odds prediction: \");\r\n",
    "#print(tf.nn.softmax(predictions).numpy()[0]);\r\n",
    "\r\n",
    "\r\n",
    "print(f'shape: {predictions.shape}');\r\n"
   ],
   "outputs": [
    {
     "output_type": "stream",
     "name": "stdout",
     "text": [
      "logits prediction: \n",
      "tf.Tensor(\n",
      "[1.0000011  0.9999969  0.9999972  1.0000043  0.9999999  0.99999934\n",
      " 1.000006   0.999994   1.0000072  1.000005   1.0000046  1.000011\n",
      " 0.9999965  0.9999902  1.0000095  1.0000045  1.0000019  1.0000054\n",
      " 0.9999923  0.9999989  1.000009   0.9999923  0.9999934  0.99999785\n",
      " 0.999996   1.0000126  1.0000019  1.000007   1.0000093  0.99999595\n",
      " 0.9999974  1.0000018  0.9999957  0.9999974  0.99999523 1.000002\n",
      " 0.99999523 1.0000039  1.0000046  0.99999714 1.0000033  1.0000044\n",
      " 1.0000017  1.0000008  0.99999774 0.999994   0.9999993  0.9999982\n",
      " 1.0000001  0.99999493 0.9999921  0.99999785 0.99999815 0.9999988\n",
      " 0.99999726 1.000007   0.99999076 0.9999958  1.0000031  0.99999255\n",
      " 1.0000025  1.0000027  0.99999434 1.0000044  0.9999942  0.99999225\n",
      " 0.9999932  0.9999953  1.0000086  0.999997   1.0000043  1.0000085\n",
      " 1.000001   0.99999505 1.000006   1.0000014  0.9999901  0.9999921\n",
      " 0.99999744 0.9999978  1.0000049  0.99999493 1.0000039  1.0000025\n",
      " 1.0000014  1.0000025  1.0000038  0.9999965  0.99999607 0.99999166\n",
      " 1.0000017  0.99999076 0.99999756 1.0000064  0.999997   0.9999924\n",
      " 0.99999624 1.0000079  0.9999966  1.0000021  1.0000056  0.9999973\n",
      " 0.99998975 1.0000004  0.9999936  1.0000005  1.0000058  1.0000008\n",
      " 0.99999005 1.0000014  0.999997   1.0000006  1.0000012  0.9999959\n",
      " 1.0000027  1.0000031  0.9999885  0.9999932  1.0000076  0.9999996\n",
      " 1.0000064  0.9999997  1.0000063  0.9999979  0.9999993  0.9999962\n",
      " 1.0000026  0.9999985  0.9999968  1.0000055  1.0000024  1.0000008\n",
      " 0.9999932  0.999998   1.000005   1.0000036  0.99999875 1.0000043\n",
      " 1.0000063  0.9999997  1.0000014  1.0000037  1.0000044  0.99999803\n",
      " 1.000006   0.99999744 1.000015   1.0000083  1.0000045  0.9999987\n",
      " 1.0000079  1.0000042  1.0000001  0.99999195 0.9999981  1.000004\n",
      " 1.0000039  0.9999984  1.0000021  0.999993   1.000009   1.0000008\n",
      " 1.0000007  1.0000068  1.000009   0.99999595 0.9999976  1.0000018\n",
      " 1.000009   0.99999833 0.9999986  1.0000075  0.9999873  1.0000001\n",
      " 1.0000148  1.0000026  0.9999975  1.0000057  1.0000012  1.000005\n",
      " 0.999992   0.99999917 0.99999833 0.9999925  1.000011   0.9999978\n",
      " 0.9999937  0.9999982  1.000002   0.99999905 0.9999993  0.9999972\n",
      " 0.9999974  1.0000025  1.0000019  0.9999997  0.99999833 1.0000023\n",
      " 1.0000093  1.0000012  0.9999959  0.9999998  1.0000002  1.0000002\n",
      " 0.9999954  1.0000018  1.0000012  1.0000027  0.99999833 0.99999535\n",
      " 1.         1.0000037  1.0000042  0.9999919  1.0000033  0.99999803\n",
      " 0.99999785 1.0000087  1.0000002  1.0000021  1.0000056  1.0000024\n",
      " 1.0000049  0.99999416 1.0000006  0.9999923  0.99999195 0.9999934\n",
      " 0.9999996  1.0000019  1.0000056  1.0000015  0.9999874  1.0000008\n",
      " 0.9999999  1.0000011  1.0000006  0.9999951  1.0000006  0.9999923\n",
      " 0.9999993  1.0000044  1.0000004  1.0000051  0.9999965  0.9999954\n",
      " 1.0000067  1.0000024  0.9999961  1.0000055  1.0000025  0.9999977\n",
      " 1.0000008  1.0000021  0.9999924  1.0000064  0.9999949  0.9999991\n",
      " 0.99999845 1.0000015  1.0000033  1.0000044  0.9999974  0.99999726\n",
      " 0.99999917 0.9999961  0.9999948  1.0000011  1.0000093  1.\n",
      " 1.0000032  0.9999956  0.99999195 1.0000013  1.0000039  0.99999857\n",
      " 0.9999924  0.99999976 0.999997   0.9999952  1.0000081  0.9999969\n",
      " 0.9999969  0.9999971  1.0000074  1.000002   1.0000086  1.0000058\n",
      " 1.0000023  0.9999954  0.9999959  1.0000077  1.0000024  1.0000076\n",
      " 1.0000118  0.99999905 1.0000035  0.99999857 0.99998844 0.99998826\n",
      " 1.0000027  0.9999989  1.0000006  1.0000027  0.9999973  0.9999991\n",
      " 1.0000061  1.0000036  1.000004   1.0000072  1.0000052  1.0000082\n",
      " 1.0000074  1.0000075  1.000001   0.9999993  1.0000023  1.0000014\n",
      " 1.0000033  1.0000023  0.99999464 0.99999946 1.000006   0.9999995\n",
      " 1.0000018  0.99999756 1.0000052  0.99999803 1.0000013  1.0000011\n",
      " 0.99999964 0.99999636 1.0000005  1.0000069  1.0000083  0.9999956\n",
      " 1.0000086  0.99999905 1.0000077  1.0000006  0.9999993  1.000006\n",
      " 1.0000004  1.0000037  1.0000023  0.99999774 0.99999726 0.9999904\n",
      " 0.99999994 1.0000019  1.000004   0.99999815 0.9999906  1.000004\n",
      " 0.99999964 0.9999959  1.0000052  1.000001   0.9999939  0.9999989\n",
      " 0.9999938  1.0000005  1.0000001  0.9999992  0.9999998  1.0000026\n",
      " 1.0000057  0.99999136 1.0000068  0.99999654 1.0000044  0.99999547\n",
      " 0.99999684 0.999997   1.000008   1.0000131  0.99999547 1.0000005\n",
      " 1.000005   0.9999973  0.99999917 1.0000068  0.99999803 0.99999905\n",
      " 0.9999901  0.99999756 0.9999918  1.0000055  1.0000032  1.000008\n",
      " 0.99999875 1.0000002  1.0000004  1.0000035  0.99998903 0.9999998\n",
      " 1.0000062  0.99999535 0.9999942  0.99999577 0.9999989  0.9999941\n",
      " 1.0000002  1.0000073  1.0000039  1.0000004  0.99998724 1.000004\n",
      " 0.99999297 0.99999374 1.0000064  0.99999124 0.9999945  0.9999932\n",
      " 0.99999696 0.99999905 1.0000013  0.99999446 0.9999984  1.0000051\n",
      " 1.0000018  1.000003   0.99999666 0.9999911  0.9999989  0.99998885\n",
      " 1.0000064  1.0000021  0.9999988  1.         0.99999964 1.0000111\n",
      " 1.0000045  1.0000012  0.9999999  0.9999955  1.0000067  0.999998\n",
      " 0.9999925  0.9999984  1.0000019  0.9999913  0.99999493 0.99999756\n",
      " 1.0000029  1.0000013  0.99999976 1.         0.999997   1.0000083\n",
      " 0.99999696 1.0000068  1.0000045  1.0000001  1.0000144  1.0000038\n",
      " 0.9999984  1.0000006  0.9999989  0.99999446 0.99999255 0.99999434\n",
      " 0.999999   1.00001    0.9999944  0.99999434 0.9999984  1.0000014\n",
      " 1.0000023  1.0000026  1.0000112  0.99999785 0.9999998  0.999999\n",
      " 0.99999934 1.0000004  1.0000008  0.99999624 1.0000021  0.99999386\n",
      " 1.0000042  1.0000067  1.0000068  0.99999005 0.9999931  1.000005\n",
      " 0.99999774 1.000008   1.0000042  0.99999833 0.9999979  1.0000088\n",
      " 1.0000031  0.9999892  0.99999493 1.000006   0.99999595 0.99999535\n",
      " 0.9999877  0.99999434], shape=(500,), dtype=float32)\n",
      "shape: (151, 500)\n"
     ]
    }
   ],
   "metadata": {}
  },
  {
   "cell_type": "code",
   "execution_count": 70,
   "source": [
    "# get the loss function as a MeanSquaredError loss from tf.keras.losses. \r\n",
    "loss_fn = tf.keras.losses.MeanSquaredError();\r\n",
    "\r\n",
    "print(\"loss:\");\r\n",
    "print(loss_fn(y_train[0],predictions[0]).numpy());"
   ],
   "outputs": [
    {
     "output_type": "stream",
     "name": "stdout",
     "text": [
      "loss:\n",
      "66959124.0\n"
     ]
    }
   ],
   "metadata": {}
  },
  {
   "cell_type": "code",
   "execution_count": 71,
   "source": [
    "opt = tf.keras.optimizers.Adam(learning_rate=1.5e-4);\r\n",
    "\r\n",
    "model.compile(loss=loss_fn,optimizer=opt,metrics=['accuracy']);\r\n"
   ],
   "outputs": [],
   "metadata": {}
  },
  {
   "cell_type": "code",
   "execution_count": 72,
   "source": [
    "model.fit(x_train,y_train,epochs=15,validation_data=(x_test,y_test), batch_size=10);"
   ],
   "outputs": [
    {
     "output_type": "stream",
     "name": "stdout",
     "text": [
      "Epoch 1/15\n",
      "16/16 [==============================] - 59s 4s/step - loss: 3562491.7500 - accuracy: 0.0000e+00 - val_loss: 3329679.0000 - val_accuracy: 0.0000e+00\n",
      "Epoch 2/15\n",
      "16/16 [==============================] - 57s 4s/step - loss: 3549101.2500 - accuracy: 0.0000e+00 - val_loss: 3293656.5000 - val_accuracy: 0.0000e+00\n",
      "Epoch 3/15\n",
      "16/16 [==============================] - 50s 3s/step - loss: 3466415.5000 - accuracy: 0.0000e+00 - val_loss: 3145904.0000 - val_accuracy: 0.0000e+00\n",
      "Epoch 4/15\n",
      "16/16 [==============================] - 49s 3s/step - loss: 3186267.7500 - accuracy: 0.0000e+00 - val_loss: 2798929.7500 - val_accuracy: 0.0000e+00\n",
      "Epoch 5/15\n",
      "16/16 [==============================] - 48s 3s/step - loss: 2815836.5000 - accuracy: 0.0000e+00 - val_loss: 2439371.2500 - val_accuracy: 1.0000\n",
      "Epoch 6/15\n",
      "16/16 [==============================] - 48s 3s/step - loss: 2602492.5000 - accuracy: 0.4636 - val_loss: 2397766.2500 - val_accuracy: 0.0000e+00\n",
      "Epoch 7/15\n",
      "16/16 [==============================] - 49s 3s/step - loss: 2598527.2500 - accuracy: 0.0000e+00 - val_loss: 2385493.7500 - val_accuracy: 0.0000e+00\n",
      "Epoch 8/15\n",
      "16/16 [==============================] - 48s 3s/step - loss: 2647198.0000 - accuracy: 0.7351 - val_loss: 2413460.7500 - val_accuracy: 1.0000\n",
      "Epoch 9/15\n",
      "16/16 [==============================] - 47s 3s/step - loss: 2546420.5000 - accuracy: 0.1325 - val_loss: 2396161.2500 - val_accuracy: 0.0000e+00\n",
      "Epoch 10/15\n",
      "16/16 [==============================] - 48s 3s/step - loss: 2591038.0000 - accuracy: 0.0000e+00 - val_loss: 2382941.0000 - val_accuracy: 0.0000e+00\n",
      "Epoch 11/15\n",
      "16/16 [==============================] - 48s 3s/step - loss: 2581325.5000 - accuracy: 0.0066 - val_loss: 2376955.2500 - val_accuracy: 1.0000\n",
      "Epoch 12/15\n",
      "16/16 [==============================] - 48s 3s/step - loss: 2552241.0000 - accuracy: 1.0000 - val_loss: 2375537.5000 - val_accuracy: 1.0000\n",
      "Epoch 13/15\n",
      "16/16 [==============================] - 48s 3s/step - loss: 2575896.0000 - accuracy: 1.0000 - val_loss: 2377073.2500 - val_accuracy: 1.0000\n",
      "Epoch 14/15\n",
      "16/16 [==============================] - 48s 3s/step - loss: 2549163.7500 - accuracy: 0.0662 - val_loss: 2380108.0000 - val_accuracy: 0.0000e+00\n",
      "Epoch 15/15\n",
      "16/16 [==============================] - 48s 3s/step - loss: 2564045.7500 - accuracy: 0.8013 - val_loss: 2378226.2500 - val_accuracy: 1.0000\n"
     ]
    }
   ],
   "metadata": {}
  },
  {
   "cell_type": "code",
   "execution_count": 73,
   "source": [
    "\r\n",
    "print(model.summary());"
   ],
   "outputs": [
    {
     "output_type": "stream",
     "name": "stdout",
     "text": [
      "Model: \"sequential_1\"\n",
      "_________________________________________________________________\n",
      "Layer (type)                 Output Shape              Param #   \n",
      "=================================================================\n",
      "lstm_1 (LSTM)                (None, 500)               1004000   \n",
      "_________________________________________________________________\n",
      "dense_2 (Dense)              (None, 500)               250500    \n",
      "_________________________________________________________________\n",
      "dense_3 (Dense)              (None, 500)               250500    \n",
      "=================================================================\n",
      "Total params: 1,505,000\n",
      "Trainable params: 1,505,000\n",
      "Non-trainable params: 0\n",
      "_________________________________________________________________\n",
      "None\n"
     ]
    }
   ],
   "metadata": {}
  },
  {
   "cell_type": "code",
   "execution_count": 74,
   "source": [
    "predictions = model(x_test);"
   ],
   "outputs": [],
   "metadata": {}
  },
  {
   "cell_type": "code",
   "execution_count": 92,
   "source": [
    "graphnum = 35;\r\n",
    "\r\n",
    "first_graph = predictions[graphnum];\r\n",
    "print(predictions.shape);\r\n",
    "\r\n",
    "x = np.linspace(0,500,500);\r\n",
    "print(x.shape)\r\n",
    "\r\n",
    "pyplot.plot(first_graph);\r\n",
    "pyplot.plot(y_test[graphnum])"
   ],
   "outputs": [
    {
     "output_type": "stream",
     "name": "stdout",
     "text": [
      "(151, 500)\n",
      "(500,)\n"
     ]
    },
    {
     "output_type": "execute_result",
     "data": {
      "text/plain": [
       "[<matplotlib.lines.Line2D at 0x239732a7b50>]"
      ]
     },
     "metadata": {},
     "execution_count": 92
    },
    {
     "output_type": "display_data",
     "data": {
      "text/plain": [
       "<Figure size 432x288 with 1 Axes>"
      ],
      "image/svg+xml": "<?xml version=\"1.0\" encoding=\"utf-8\" standalone=\"no\"?>\r\n<!DOCTYPE svg PUBLIC \"-//W3C//DTD SVG 1.1//EN\"\r\n  \"http://www.w3.org/Graphics/SVG/1.1/DTD/svg11.dtd\">\r\n<svg height=\"248.518125pt\" version=\"1.1\" viewBox=\"0 0 381.65 248.518125\" width=\"381.65pt\" xmlns=\"http://www.w3.org/2000/svg\" xmlns:xlink=\"http://www.w3.org/1999/xlink\">\r\n <metadata>\r\n  <rdf:RDF xmlns:cc=\"http://creativecommons.org/ns#\" xmlns:dc=\"http://purl.org/dc/elements/1.1/\" xmlns:rdf=\"http://www.w3.org/1999/02/22-rdf-syntax-ns#\">\r\n   <cc:Work>\r\n    <dc:type rdf:resource=\"http://purl.org/dc/dcmitype/StillImage\"/>\r\n    <dc:date>2021-08-25T19:43:25.490798</dc:date>\r\n    <dc:format>image/svg+xml</dc:format>\r\n    <dc:creator>\r\n     <cc:Agent>\r\n      <dc:title>Matplotlib v3.4.2, https://matplotlib.org/</dc:title>\r\n     </cc:Agent>\r\n    </dc:creator>\r\n   </cc:Work>\r\n  </rdf:RDF>\r\n </metadata>\r\n <defs>\r\n  <style type=\"text/css\">*{stroke-linecap:butt;stroke-linejoin:round;}</style>\r\n </defs>\r\n <g id=\"figure_1\">\r\n  <g id=\"patch_1\">\r\n   <path d=\"M -0 248.518125 \r\nL 381.65 248.518125 \r\nL 381.65 0 \r\nL -0 0 \r\nz\r\n\" style=\"fill:none;\"/>\r\n  </g>\r\n  <g id=\"axes_1\">\r\n   <g id=\"patch_2\">\r\n    <path d=\"M 39.65 224.64 \r\nL 374.45 224.64 \r\nL 374.45 7.2 \r\nL 39.65 7.2 \r\nz\r\n\" style=\"fill:#ffffff;\"/>\r\n   </g>\r\n   <g id=\"matplotlib.axis_1\">\r\n    <g id=\"xtick_1\">\r\n     <g id=\"line2d_1\">\r\n      <defs>\r\n       <path d=\"M 0 0 \r\nL 0 3.5 \r\n\" id=\"m1a2fafe3bc\" style=\"stroke:#000000;stroke-width:0.8;\"/>\r\n      </defs>\r\n      <g>\r\n       <use style=\"stroke:#000000;stroke-width:0.8;\" x=\"54.868182\" xlink:href=\"#m1a2fafe3bc\" y=\"224.64\"/>\r\n      </g>\r\n     </g>\r\n     <g id=\"text_1\">\r\n      <!-- 0 -->\r\n      <g transform=\"translate(51.686932 239.238437)scale(0.1 -0.1)\">\r\n       <defs>\r\n        <path d=\"M 2034 4250 \r\nQ 1547 4250 1301 3770 \r\nQ 1056 3291 1056 2328 \r\nQ 1056 1369 1301 889 \r\nQ 1547 409 2034 409 \r\nQ 2525 409 2770 889 \r\nQ 3016 1369 3016 2328 \r\nQ 3016 3291 2770 3770 \r\nQ 2525 4250 2034 4250 \r\nz\r\nM 2034 4750 \r\nQ 2819 4750 3233 4129 \r\nQ 3647 3509 3647 2328 \r\nQ 3647 1150 3233 529 \r\nQ 2819 -91 2034 -91 \r\nQ 1250 -91 836 529 \r\nQ 422 1150 422 2328 \r\nQ 422 3509 836 4129 \r\nQ 1250 4750 2034 4750 \r\nz\r\n\" id=\"DejaVuSans-30\" transform=\"scale(0.015625)\"/>\r\n       </defs>\r\n       <use xlink:href=\"#DejaVuSans-30\"/>\r\n      </g>\r\n     </g>\r\n    </g>\r\n    <g id=\"xtick_2\">\r\n     <g id=\"line2d_2\">\r\n      <g>\r\n       <use style=\"stroke:#000000;stroke-width:0.8;\" x=\"115.862899\" xlink:href=\"#m1a2fafe3bc\" y=\"224.64\"/>\r\n      </g>\r\n     </g>\r\n     <g id=\"text_2\">\r\n      <!-- 100 -->\r\n      <g transform=\"translate(106.319149 239.238437)scale(0.1 -0.1)\">\r\n       <defs>\r\n        <path d=\"M 794 531 \r\nL 1825 531 \r\nL 1825 4091 \r\nL 703 3866 \r\nL 703 4441 \r\nL 1819 4666 \r\nL 2450 4666 \r\nL 2450 531 \r\nL 3481 531 \r\nL 3481 0 \r\nL 794 0 \r\nL 794 531 \r\nz\r\n\" id=\"DejaVuSans-31\" transform=\"scale(0.015625)\"/>\r\n       </defs>\r\n       <use xlink:href=\"#DejaVuSans-31\"/>\r\n       <use x=\"63.623047\" xlink:href=\"#DejaVuSans-30\"/>\r\n       <use x=\"127.246094\" xlink:href=\"#DejaVuSans-30\"/>\r\n      </g>\r\n     </g>\r\n    </g>\r\n    <g id=\"xtick_3\">\r\n     <g id=\"line2d_3\">\r\n      <g>\r\n       <use style=\"stroke:#000000;stroke-width:0.8;\" x=\"176.857615\" xlink:href=\"#m1a2fafe3bc\" y=\"224.64\"/>\r\n      </g>\r\n     </g>\r\n     <g id=\"text_3\">\r\n      <!-- 200 -->\r\n      <g transform=\"translate(167.313865 239.238437)scale(0.1 -0.1)\">\r\n       <defs>\r\n        <path d=\"M 1228 531 \r\nL 3431 531 \r\nL 3431 0 \r\nL 469 0 \r\nL 469 531 \r\nQ 828 903 1448 1529 \r\nQ 2069 2156 2228 2338 \r\nQ 2531 2678 2651 2914 \r\nQ 2772 3150 2772 3378 \r\nQ 2772 3750 2511 3984 \r\nQ 2250 4219 1831 4219 \r\nQ 1534 4219 1204 4116 \r\nQ 875 4013 500 3803 \r\nL 500 4441 \r\nQ 881 4594 1212 4672 \r\nQ 1544 4750 1819 4750 \r\nQ 2544 4750 2975 4387 \r\nQ 3406 4025 3406 3419 \r\nQ 3406 3131 3298 2873 \r\nQ 3191 2616 2906 2266 \r\nQ 2828 2175 2409 1742 \r\nQ 1991 1309 1228 531 \r\nz\r\n\" id=\"DejaVuSans-32\" transform=\"scale(0.015625)\"/>\r\n       </defs>\r\n       <use xlink:href=\"#DejaVuSans-32\"/>\r\n       <use x=\"63.623047\" xlink:href=\"#DejaVuSans-30\"/>\r\n       <use x=\"127.246094\" xlink:href=\"#DejaVuSans-30\"/>\r\n      </g>\r\n     </g>\r\n    </g>\r\n    <g id=\"xtick_4\">\r\n     <g id=\"line2d_4\">\r\n      <g>\r\n       <use style=\"stroke:#000000;stroke-width:0.8;\" x=\"237.852332\" xlink:href=\"#m1a2fafe3bc\" y=\"224.64\"/>\r\n      </g>\r\n     </g>\r\n     <g id=\"text_4\">\r\n      <!-- 300 -->\r\n      <g transform=\"translate(228.308582 239.238437)scale(0.1 -0.1)\">\r\n       <defs>\r\n        <path d=\"M 2597 2516 \r\nQ 3050 2419 3304 2112 \r\nQ 3559 1806 3559 1356 \r\nQ 3559 666 3084 287 \r\nQ 2609 -91 1734 -91 \r\nQ 1441 -91 1130 -33 \r\nQ 819 25 488 141 \r\nL 488 750 \r\nQ 750 597 1062 519 \r\nQ 1375 441 1716 441 \r\nQ 2309 441 2620 675 \r\nQ 2931 909 2931 1356 \r\nQ 2931 1769 2642 2001 \r\nQ 2353 2234 1838 2234 \r\nL 1294 2234 \r\nL 1294 2753 \r\nL 1863 2753 \r\nQ 2328 2753 2575 2939 \r\nQ 2822 3125 2822 3475 \r\nQ 2822 3834 2567 4026 \r\nQ 2313 4219 1838 4219 \r\nQ 1578 4219 1281 4162 \r\nQ 984 4106 628 3988 \r\nL 628 4550 \r\nQ 988 4650 1302 4700 \r\nQ 1616 4750 1894 4750 \r\nQ 2613 4750 3031 4423 \r\nQ 3450 4097 3450 3541 \r\nQ 3450 3153 3228 2886 \r\nQ 3006 2619 2597 2516 \r\nz\r\n\" id=\"DejaVuSans-33\" transform=\"scale(0.015625)\"/>\r\n       </defs>\r\n       <use xlink:href=\"#DejaVuSans-33\"/>\r\n       <use x=\"63.623047\" xlink:href=\"#DejaVuSans-30\"/>\r\n       <use x=\"127.246094\" xlink:href=\"#DejaVuSans-30\"/>\r\n      </g>\r\n     </g>\r\n    </g>\r\n    <g id=\"xtick_5\">\r\n     <g id=\"line2d_5\">\r\n      <g>\r\n       <use style=\"stroke:#000000;stroke-width:0.8;\" x=\"298.847049\" xlink:href=\"#m1a2fafe3bc\" y=\"224.64\"/>\r\n      </g>\r\n     </g>\r\n     <g id=\"text_5\">\r\n      <!-- 400 -->\r\n      <g transform=\"translate(289.303299 239.238437)scale(0.1 -0.1)\">\r\n       <defs>\r\n        <path d=\"M 2419 4116 \r\nL 825 1625 \r\nL 2419 1625 \r\nL 2419 4116 \r\nz\r\nM 2253 4666 \r\nL 3047 4666 \r\nL 3047 1625 \r\nL 3713 1625 \r\nL 3713 1100 \r\nL 3047 1100 \r\nL 3047 0 \r\nL 2419 0 \r\nL 2419 1100 \r\nL 313 1100 \r\nL 313 1709 \r\nL 2253 4666 \r\nz\r\n\" id=\"DejaVuSans-34\" transform=\"scale(0.015625)\"/>\r\n       </defs>\r\n       <use xlink:href=\"#DejaVuSans-34\"/>\r\n       <use x=\"63.623047\" xlink:href=\"#DejaVuSans-30\"/>\r\n       <use x=\"127.246094\" xlink:href=\"#DejaVuSans-30\"/>\r\n      </g>\r\n     </g>\r\n    </g>\r\n    <g id=\"xtick_6\">\r\n     <g id=\"line2d_6\">\r\n      <g>\r\n       <use style=\"stroke:#000000;stroke-width:0.8;\" x=\"359.841765\" xlink:href=\"#m1a2fafe3bc\" y=\"224.64\"/>\r\n      </g>\r\n     </g>\r\n     <g id=\"text_6\">\r\n      <!-- 500 -->\r\n      <g transform=\"translate(350.298015 239.238437)scale(0.1 -0.1)\">\r\n       <defs>\r\n        <path d=\"M 691 4666 \r\nL 3169 4666 \r\nL 3169 4134 \r\nL 1269 4134 \r\nL 1269 2991 \r\nQ 1406 3038 1543 3061 \r\nQ 1681 3084 1819 3084 \r\nQ 2600 3084 3056 2656 \r\nQ 3513 2228 3513 1497 \r\nQ 3513 744 3044 326 \r\nQ 2575 -91 1722 -91 \r\nQ 1428 -91 1123 -41 \r\nQ 819 9 494 109 \r\nL 494 744 \r\nQ 775 591 1075 516 \r\nQ 1375 441 1709 441 \r\nQ 2250 441 2565 725 \r\nQ 2881 1009 2881 1497 \r\nQ 2881 1984 2565 2268 \r\nQ 2250 2553 1709 2553 \r\nQ 1456 2553 1204 2497 \r\nQ 953 2441 691 2322 \r\nL 691 4666 \r\nz\r\n\" id=\"DejaVuSans-35\" transform=\"scale(0.015625)\"/>\r\n       </defs>\r\n       <use xlink:href=\"#DejaVuSans-35\"/>\r\n       <use x=\"63.623047\" xlink:href=\"#DejaVuSans-30\"/>\r\n       <use x=\"127.246094\" xlink:href=\"#DejaVuSans-30\"/>\r\n      </g>\r\n     </g>\r\n    </g>\r\n   </g>\r\n   <g id=\"matplotlib.axis_2\">\r\n    <g id=\"ytick_1\">\r\n     <g id=\"line2d_7\">\r\n      <defs>\r\n       <path d=\"M 0 0 \r\nL -3.5 0 \r\n\" id=\"m398118b67d\" style=\"stroke:#000000;stroke-width:0.8;\"/>\r\n      </defs>\r\n      <g>\r\n       <use style=\"stroke:#000000;stroke-width:0.8;\" x=\"39.65\" xlink:href=\"#m398118b67d\" y=\"214.774576\"/>\r\n      </g>\r\n     </g>\r\n     <g id=\"text_7\">\r\n      <!-- 0 -->\r\n      <g transform=\"translate(26.2875 218.573795)scale(0.1 -0.1)\">\r\n       <use xlink:href=\"#DejaVuSans-30\"/>\r\n      </g>\r\n     </g>\r\n    </g>\r\n    <g id=\"ytick_2\">\r\n     <g id=\"line2d_8\">\r\n      <g>\r\n       <use style=\"stroke:#000000;stroke-width:0.8;\" x=\"39.65\" xlink:href=\"#m398118b67d\" y=\"174.861174\"/>\r\n      </g>\r\n     </g>\r\n     <g id=\"text_8\">\r\n      <!-- 500 -->\r\n      <g transform=\"translate(13.5625 178.660393)scale(0.1 -0.1)\">\r\n       <use xlink:href=\"#DejaVuSans-35\"/>\r\n       <use x=\"63.623047\" xlink:href=\"#DejaVuSans-30\"/>\r\n       <use x=\"127.246094\" xlink:href=\"#DejaVuSans-30\"/>\r\n      </g>\r\n     </g>\r\n    </g>\r\n    <g id=\"ytick_3\">\r\n     <g id=\"line2d_9\">\r\n      <g>\r\n       <use style=\"stroke:#000000;stroke-width:0.8;\" x=\"39.65\" xlink:href=\"#m398118b67d\" y=\"134.947772\"/>\r\n      </g>\r\n     </g>\r\n     <g id=\"text_9\">\r\n      <!-- 1000 -->\r\n      <g transform=\"translate(7.2 138.746991)scale(0.1 -0.1)\">\r\n       <use xlink:href=\"#DejaVuSans-31\"/>\r\n       <use x=\"63.623047\" xlink:href=\"#DejaVuSans-30\"/>\r\n       <use x=\"127.246094\" xlink:href=\"#DejaVuSans-30\"/>\r\n       <use x=\"190.869141\" xlink:href=\"#DejaVuSans-30\"/>\r\n      </g>\r\n     </g>\r\n    </g>\r\n    <g id=\"ytick_4\">\r\n     <g id=\"line2d_10\">\r\n      <g>\r\n       <use style=\"stroke:#000000;stroke-width:0.8;\" x=\"39.65\" xlink:href=\"#m398118b67d\" y=\"95.03437\"/>\r\n      </g>\r\n     </g>\r\n     <g id=\"text_10\">\r\n      <!-- 1500 -->\r\n      <g transform=\"translate(7.2 98.833589)scale(0.1 -0.1)\">\r\n       <use xlink:href=\"#DejaVuSans-31\"/>\r\n       <use x=\"63.623047\" xlink:href=\"#DejaVuSans-35\"/>\r\n       <use x=\"127.246094\" xlink:href=\"#DejaVuSans-30\"/>\r\n       <use x=\"190.869141\" xlink:href=\"#DejaVuSans-30\"/>\r\n      </g>\r\n     </g>\r\n    </g>\r\n    <g id=\"ytick_5\">\r\n     <g id=\"line2d_11\">\r\n      <g>\r\n       <use style=\"stroke:#000000;stroke-width:0.8;\" x=\"39.65\" xlink:href=\"#m398118b67d\" y=\"55.120968\"/>\r\n      </g>\r\n     </g>\r\n     <g id=\"text_11\">\r\n      <!-- 2000 -->\r\n      <g transform=\"translate(7.2 58.920187)scale(0.1 -0.1)\">\r\n       <use xlink:href=\"#DejaVuSans-32\"/>\r\n       <use x=\"63.623047\" xlink:href=\"#DejaVuSans-30\"/>\r\n       <use x=\"127.246094\" xlink:href=\"#DejaVuSans-30\"/>\r\n       <use x=\"190.869141\" xlink:href=\"#DejaVuSans-30\"/>\r\n      </g>\r\n     </g>\r\n    </g>\r\n    <g id=\"ytick_6\">\r\n     <g id=\"line2d_12\">\r\n      <g>\r\n       <use style=\"stroke:#000000;stroke-width:0.8;\" x=\"39.65\" xlink:href=\"#m398118b67d\" y=\"15.207566\"/>\r\n      </g>\r\n     </g>\r\n     <g id=\"text_12\">\r\n      <!-- 2500 -->\r\n      <g transform=\"translate(7.2 19.006784)scale(0.1 -0.1)\">\r\n       <use xlink:href=\"#DejaVuSans-32\"/>\r\n       <use x=\"63.623047\" xlink:href=\"#DejaVuSans-35\"/>\r\n       <use x=\"127.246094\" xlink:href=\"#DejaVuSans-30\"/>\r\n       <use x=\"190.869141\" xlink:href=\"#DejaVuSans-30\"/>\r\n      </g>\r\n     </g>\r\n    </g>\r\n   </g>\r\n   <g id=\"line2d_13\">\r\n    <path clip-path=\"url(#pa28b09306a)\" d=\"M 54.868182 214.756364 \r\nL 62.797495 214.539646 \r\nL 70.116861 214.123335 \r\nL 78.046174 213.43848 \r\nL 85.36554 212.588452 \r\nL 93.294853 211.435123 \r\nL 103.054008 209.673441 \r\nL 112.203216 207.719851 \r\nL 115.252951 206.957612 \r\nL 120.132529 205.729389 \r\nL 124.402159 204.535704 \r\nL 130.501631 202.752865 \r\nL 139.040891 200.005495 \r\nL 150.01994 196.082368 \r\nL 163.438778 190.606 \r\nL 168.318355 188.469924 \r\nL 171.368091 187.070054 \r\nL 173.807879 185.935713 \r\nL 176.247668 184.699781 \r\nL 176.857615 184.494643 \r\nL 178.07751 183.835982 \r\nL 179.297404 183.266456 \r\nL 180.517298 182.655245 \r\nL 181.737193 182.00836 \r\nL 182.34714 181.895375 \r\nL 183.567034 181.16258 \r\nL 184.786928 180.429983 \r\nL 186.61677 179.657311 \r\nL 187.226717 179.1937 \r\nL 187.836664 178.925936 \r\nL 189.056559 178.200421 \r\nL 190.276453 177.649448 \r\nL 191.496347 176.902704 \r\nL 192.106294 176.523756 \r\nL 193.326189 175.96252 \r\nL 193.936136 175.560382 \r\nL 194.546083 175.418278 \r\nL 195.765977 174.541604 \r\nL 196.985872 173.992804 \r\nL 198.815713 172.868286 \r\nL 201.255502 171.598404 \r\nL 201.865449 171.085435 \r\nL 204.915185 169.361476 \r\nL 206.135079 168.537492 \r\nL 207.964921 167.510297 \r\nL 208.574868 167.290047 \r\nL 209.794762 166.30374 \r\nL 211.014657 165.661729 \r\nL 212.234551 164.838238 \r\nL 212.844498 164.65527 \r\nL 213.454445 164.075045 \r\nL 215.284287 162.959438 \r\nL 215.894234 162.607102 \r\nL 216.504181 162.058697 \r\nL 217.724075 161.541752 \r\nL 218.334023 160.954852 \r\nL 220.773811 159.595628 \r\nL 221.383758 158.996766 \r\nL 221.993706 158.594533 \r\nL 222.603653 158.408233 \r\nL 224.433494 157.019708 \r\nL 225.043441 156.742385 \r\nL 226.263336 155.780117 \r\nL 226.873283 155.304484 \r\nL 228.093177 154.61704 \r\nL 229.313072 153.653028 \r\nL 229.923019 153.339178 \r\nL 230.532966 152.804995 \r\nL 231.142913 152.653965 \r\nL 232.362807 151.508979 \r\nL 232.972755 151.257157 \r\nL 234.192649 150.334564 \r\nL 235.412543 149.476055 \r\nL 236.632438 148.498309 \r\nL 237.852332 147.600126 \r\nL 238.462279 147.267683 \r\nL 239.072226 146.677947 \r\nL 240.292121 145.925824 \r\nL 240.902068 145.336321 \r\nL 241.512015 145.071325 \r\nL 242.121962 144.621749 \r\nL 242.731909 143.927293 \r\nL 243.341856 143.663603 \r\nL 245.781645 141.862477 \r\nL 246.391592 141.299133 \r\nL 247.001539 140.996289 \r\nL 247.611487 140.394236 \r\nL 248.221434 140.032263 \r\nL 248.831381 139.372815 \r\nL 250.051275 138.653555 \r\nL 250.661222 138.082499 \r\nL 251.27117 137.82333 \r\nL 251.881117 137.095661 \r\nL 252.491064 136.590765 \r\nL 253.101011 136.322441 \r\nL 253.710958 135.68598 \r\nL 254.930853 134.747372 \r\nL 256.760694 133.301831 \r\nL 257.370641 132.923541 \r\nL 258.590536 131.759913 \r\nL 259.200483 131.67995 \r\nL 260.420377 130.372367 \r\nL 261.030324 130.032333 \r\nL 263.470113 127.88308 \r\nL 264.08006 127.353614 \r\nL 264.690007 127.001331 \r\nL 265.909902 125.801171 \r\nL 266.519849 125.753385 \r\nL 267.129796 124.894009 \r\nL 267.739743 124.477237 \r\nL 268.959637 123.233568 \r\nL 269.569585 123.055478 \r\nL 270.789479 121.647137 \r\nL 271.399426 121.724499 \r\nL 272.009373 120.71879 \r\nL 272.61932 120.210265 \r\nL 273.229268 119.900751 \r\nL 274.449162 118.790552 \r\nL 275.059109 118.021634 \r\nL 275.669056 118.048851 \r\nL 276.279003 116.94484 \r\nL 277.498898 115.864693 \r\nL 278.108845 115.659601 \r\nL 278.718792 115.101291 \r\nL 279.328739 114.286009 \r\nL 280.548634 113.342636 \r\nL 281.158581 113.088149 \r\nL 282.378475 111.668202 \r\nL 284.208317 110.095589 \r\nL 284.818264 109.98037 \r\nL 285.428211 109.153122 \r\nL 286.038158 108.617253 \r\nL 287.868 106.666476 \r\nL 288.477947 106.347325 \r\nL 289.697841 105.183775 \r\nL 290.307788 104.506689 \r\nL 291.527683 103.56471 \r\nL 292.13763 102.78368 \r\nL 292.747577 102.783407 \r\nL 293.357524 101.734043 \r\nL 293.967471 101.53319 \r\nL 294.577418 100.561889 \r\nL 295.187366 100.444799 \r\nL 296.40726 98.720591 \r\nL 297.017207 98.630795 \r\nL 297.627154 97.977291 \r\nL 298.237101 97.000495 \r\nL 298.847049 96.570091 \r\nL 303.116679 92.49411 \r\nL 304.336573 91.379935 \r\nL 304.94652 90.332706 \r\nL 305.556467 89.935696 \r\nL 306.166415 89.706778 \r\nL 306.776362 89.178179 \r\nL 307.386309 88.183521 \r\nL 307.996256 87.490591 \r\nL 308.606203 87.168019 \r\nL 309.21615 86.444569 \r\nL 309.826098 86.099527 \r\nL 310.436045 85.18984 \r\nL 311.655939 83.935316 \r\nL 312.875833 83.018185 \r\nL 314.095728 81.357803 \r\nL 314.705675 81.097031 \r\nL 315.315622 80.062206 \r\nL 316.535516 78.949951 \r\nL 317.145464 78.760635 \r\nL 317.755411 77.36161 \r\nL 318.975305 76.171224 \r\nL 319.585252 75.523878 \r\nL 320.195199 75.185287 \r\nL 321.415094 73.932604 \r\nL 322.025041 73.846755 \r\nL 323.244935 71.749996 \r\nL 323.854882 71.919648 \r\nL 324.46483 70.70033 \r\nL 325.074777 70.143891 \r\nL 325.684724 69.176673 \r\nL 326.294671 69.232899 \r\nL 326.904618 68.152099 \r\nL 327.514565 67.441648 \r\nL 328.124513 66.933893 \r\nL 329.344407 65.358015 \r\nL 329.954354 64.882465 \r\nL 330.564301 64.123632 \r\nL 331.174248 63.069367 \r\nL 331.784196 62.805029 \r\nL 333.00409 61.552629 \r\nL 333.614037 61.199917 \r\nL 334.223984 59.954455 \r\nL 334.833931 60.027295 \r\nL 336.663773 57.684274 \r\nL 337.27372 56.663364 \r\nL 337.883667 56.256843 \r\nL 338.493615 55.699322 \r\nL 339.103562 54.654519 \r\nL 339.713509 54.050975 \r\nL 340.323456 53.864329 \r\nL 340.933403 52.733316 \r\nL 341.54335 51.916319 \r\nL 342.153298 51.320308 \r\nL 342.763245 51.376416 \r\nL 343.373192 50.022849 \r\nL 343.983139 49.786214 \r\nL 345.203033 47.847978 \r\nL 345.812981 47.573223 \r\nL 346.422928 46.526334 \r\nL 347.032875 46.252046 \r\nL 347.642822 45.153765 \r\nL 348.252769 44.95946 \r\nL 348.862716 43.719864 \r\nL 349.472664 43.03358 \r\nL 350.692558 42.013956 \r\nL 351.302505 40.595042 \r\nL 352.522399 39.398517 \r\nL 353.132347 39.146954 \r\nL 353.742294 37.854816 \r\nL 354.352241 37.651546 \r\nL 354.962188 36.628843 \r\nL 355.572135 36.549913 \r\nL 356.182082 34.976588 \r\nL 357.401977 34.19204 \r\nL 358.011924 32.939582 \r\nL 358.621871 32.904287 \r\nL 359.231818 31.66855 \r\nL 359.231818 31.66855 \r\n\" style=\"fill:none;stroke:#1f77b4;stroke-linecap:square;stroke-width:1.5;\"/>\r\n   </g>\r\n   <g id=\"line2d_14\">\r\n    <path clip-path=\"url(#pa28b09306a)\" d=\"M 54.868182 214.754807 \r\nL 62.187548 214.548624 \r\nL 69.506914 214.118338 \r\nL 76.82628 213.463948 \r\nL 84.145646 212.585455 \r\nL 91.465012 211.482859 \r\nL 98.784378 210.156159 \r\nL 106.103744 208.605355 \r\nL 113.42311 206.830448 \r\nL 120.742476 204.831438 \r\nL 128.061842 202.608324 \r\nL 135.381208 200.161107 \r\nL 142.700574 197.489786 \r\nL 150.01994 194.594362 \r\nL 157.339306 191.474834 \r\nL 165.268619 187.842452 \r\nL 173.197932 183.947059 \r\nL 181.127245 179.788655 \r\nL 189.056559 175.367241 \r\nL 196.985872 170.682817 \r\nL 204.915185 165.735383 \r\nL 212.844498 160.524939 \r\nL 220.773811 155.051484 \r\nL 228.703124 149.315018 \r\nL 236.632438 143.315543 \r\nL 244.561751 137.053057 \r\nL 253.101011 130.014706 \r\nL 261.640271 122.671325 \r\nL 270.179532 115.022914 \r\nL 278.718792 107.069474 \r\nL 287.258052 98.811003 \r\nL 295.797313 90.247504 \r\nL 304.336573 81.378974 \r\nL 312.875833 72.205415 \r\nL 322.025041 62.038112 \r\nL 331.174248 51.520647 \r\nL 340.323456 40.653021 \r\nL 349.472664 29.435233 \r\nL 358.621871 17.867283 \r\nL 359.231818 17.083636 \r\nL 359.231818 17.083636 \r\n\" style=\"fill:none;stroke:#ff7f0e;stroke-linecap:square;stroke-width:1.5;\"/>\r\n   </g>\r\n   <g id=\"patch_3\">\r\n    <path d=\"M 39.65 224.64 \r\nL 39.65 7.2 \r\n\" style=\"fill:none;stroke:#000000;stroke-linecap:square;stroke-linejoin:miter;stroke-width:0.8;\"/>\r\n   </g>\r\n   <g id=\"patch_4\">\r\n    <path d=\"M 374.45 224.64 \r\nL 374.45 7.2 \r\n\" style=\"fill:none;stroke:#000000;stroke-linecap:square;stroke-linejoin:miter;stroke-width:0.8;\"/>\r\n   </g>\r\n   <g id=\"patch_5\">\r\n    <path d=\"M 39.65 224.64 \r\nL 374.45 224.64 \r\n\" style=\"fill:none;stroke:#000000;stroke-linecap:square;stroke-linejoin:miter;stroke-width:0.8;\"/>\r\n   </g>\r\n   <g id=\"patch_6\">\r\n    <path d=\"M 39.65 7.2 \r\nL 374.45 7.2 \r\n\" style=\"fill:none;stroke:#000000;stroke-linecap:square;stroke-linejoin:miter;stroke-width:0.8;\"/>\r\n   </g>\r\n  </g>\r\n </g>\r\n <defs>\r\n  <clipPath id=\"pa28b09306a\">\r\n   <rect height=\"217.44\" width=\"334.8\" x=\"39.65\" y=\"7.2\"/>\r\n  </clipPath>\r\n </defs>\r\n</svg>\r\n",
      "image/png": "[encoded data removed]"
     },
     "metadata": {
      "needs_background": "light"
     }
    }
   ],
   "metadata": {}
  },
  {
   "cell_type": "code",
   "execution_count": 76,
   "source": [
    "print(first_graph)"
   ],
   "outputs": [
    {
     "output_type": "stream",
     "name": "stdout",
     "text": [
      "tf.Tensor(\n",
      "[2.28184566e-01 3.30034286e-01 4.47497636e-01 5.84704340e-01\n",
      " 7.39759624e-01 9.11515772e-01 1.10197830e+00 1.31217301e+00\n",
      " 1.53674567e+00 1.78321278e+00 2.04566455e+00 2.32380891e+00\n",
      " 2.62514281e+00 2.94288087e+00 3.27813363e+00 3.62801075e+00\n",
      " 4.00795269e+00 4.39528608e+00 4.80108738e+00 5.22829390e+00\n",
      " 5.67027569e+00 6.14165831e+00 6.60417223e+00 7.10602140e+00\n",
      " 7.62839556e+00 8.15686989e+00 8.71868706e+00 9.29302597e+00\n",
      " 9.87372684e+00 1.04693336e+01 1.10879345e+01 1.17532482e+01\n",
      " 1.24151688e+01 1.30878601e+01 1.37794914e+01 1.45083017e+01\n",
      " 1.52319708e+01 1.59972610e+01 1.67358685e+01 1.75227470e+01\n",
      " 1.83528709e+01 1.91933498e+01 2.00372238e+01 2.09089966e+01\n",
      " 2.17640705e+01 2.26634827e+01 2.35408554e+01 2.44942093e+01\n",
      " 2.54717026e+01 2.64179840e+01 2.73875332e+01 2.84053535e+01\n",
      " 2.94629173e+01 3.05073318e+01 3.15723419e+01 3.26045609e+01\n",
      " 3.37358360e+01 3.48675423e+01 3.59268723e+01 3.71437569e+01\n",
      " 3.82154160e+01 3.95024986e+01 4.06256371e+01 4.18302155e+01\n",
      " 4.31295891e+01 4.42886238e+01 4.56161766e+01 4.69578552e+01\n",
      " 4.82460938e+01 4.96419945e+01 5.09039459e+01 5.22672081e+01\n",
      " 5.37165413e+01 5.50958138e+01 5.65814514e+01 5.77998581e+01\n",
      " 5.93897514e+01 6.09676819e+01 6.23391609e+01 6.39032402e+01\n",
      " 6.54605713e+01 6.70101395e+01 6.84259949e+01 7.00933456e+01\n",
      " 7.17400284e+01 7.32080536e+01 7.49119720e+01 7.65125122e+01\n",
      " 7.82902145e+01 8.00617065e+01 8.17290497e+01 8.33101730e+01\n",
      " 8.52215500e+01 8.69337234e+01 8.83961716e+01 9.05114136e+01\n",
      " 9.22976913e+01 9.41436386e+01 9.60283432e+01 9.79247589e+01\n",
      " 9.96612167e+01 1.01753265e+02 1.03692062e+02 1.05605644e+02\n",
      " 1.07407349e+02 1.09548798e+02 1.11523232e+02 1.13288269e+02\n",
      " 1.15655296e+02 1.17468590e+02 1.19547104e+02 1.21789742e+02\n",
      " 1.23914879e+02 1.26197563e+02 1.28287735e+02 1.30362289e+02\n",
      " 1.32429794e+02 1.34993439e+02 1.36866150e+02 1.39100266e+02\n",
      " 1.41251633e+02 1.43642639e+02 1.46064163e+02 1.48320404e+02\n",
      " 1.50579849e+02 1.52959366e+02 1.55163498e+02 1.57489319e+02\n",
      " 1.60344147e+02 1.62637009e+02 1.64603882e+02 1.67248871e+02\n",
      " 1.70012238e+02 1.72436111e+02 1.74657593e+02 1.77340134e+02\n",
      " 1.79971344e+02 1.82342499e+02 1.84992874e+02 1.87684647e+02\n",
      " 1.90185623e+02 1.92709381e+02 1.95405487e+02 1.97761017e+02\n",
      " 2.00604507e+02 2.03218338e+02 2.06129578e+02 2.08799774e+02\n",
      " 2.11676788e+02 2.14077118e+02 2.17542831e+02 2.20104111e+02\n",
      " 2.22958206e+02 2.25826691e+02 2.28968338e+02 2.31458878e+02\n",
      " 2.34165131e+02 2.37162186e+02 2.40564407e+02 2.43087280e+02\n",
      " 2.46263824e+02 2.48725479e+02 2.51529007e+02 2.55518158e+02\n",
      " 2.58822205e+02 2.61071564e+02 2.64071289e+02 2.67741516e+02\n",
      " 2.70561798e+02 2.73955872e+02 2.76669250e+02 2.79829651e+02\n",
      " 2.83335510e+02 2.86057617e+02 2.89916321e+02 2.92986267e+02\n",
      " 2.95444580e+02 2.99671051e+02 3.02741028e+02 3.05898743e+02\n",
      " 3.09390991e+02 3.12921875e+02 3.16041077e+02 3.19480560e+02\n",
      " 3.22891571e+02 3.26488403e+02 3.29480072e+02 3.33333984e+02\n",
      " 3.36761993e+02 3.39517853e+02 3.43642059e+02 3.47018494e+02\n",
      " 3.50350433e+02 3.54534698e+02 3.58298096e+02 3.61208832e+02\n",
      " 3.65101898e+02 3.68626617e+02 3.72811859e+02 3.76783264e+02\n",
      " 3.79293610e+02 3.84155853e+02 3.87543396e+02 3.90608093e+02\n",
      " 3.94771362e+02 3.99297577e+02 4.02362366e+02 4.06275848e+02\n",
      " 4.10499420e+02 4.11785675e+02 4.15904449e+02 4.20984833e+02\n",
      " 4.25842072e+02 4.30347412e+02 4.33401184e+02 4.36797485e+02\n",
      " 4.39951355e+02 4.45676605e+02 4.49010864e+02 4.53947449e+02\n",
      " 4.58233307e+02 4.61110809e+02 4.65058960e+02 4.69282562e+02\n",
      " 4.74410126e+02 4.79292145e+02 4.82191528e+02 4.86180359e+02\n",
      " 4.91246307e+02 4.92892059e+02 4.98888824e+02 5.04001129e+02\n",
      " 5.06932953e+02 5.10750549e+02 5.15836304e+02 5.20442871e+02\n",
      " 5.24862549e+02 5.29064575e+02 5.33425171e+02 5.36736450e+02\n",
      " 5.40720459e+02 5.47319519e+02 5.51473022e+02 5.56443237e+02\n",
      " 5.58712708e+02 5.64065674e+02 5.68979248e+02 5.74845154e+02\n",
      " 5.79188782e+02 5.83930481e+02 5.87464539e+02 5.91974365e+02\n",
      " 5.94723633e+02 6.01291748e+02 6.07348572e+02 6.10616272e+02\n",
      " 6.15277161e+02 6.20099915e+02 6.25554321e+02 6.27737427e+02\n",
      " 6.35175476e+02 6.39298523e+02 6.44085876e+02 6.49170959e+02\n",
      " 6.53453979e+02 6.60485229e+02 6.64157227e+02 6.66812927e+02\n",
      " 6.74229309e+02 6.78405579e+02 6.82942749e+02 6.85894653e+02\n",
      " 6.91223083e+02 6.98747986e+02 7.03912781e+02 7.05971313e+02\n",
      " 7.12203125e+02 7.17191345e+02 7.23621582e+02 7.26992249e+02\n",
      " 7.33833618e+02 7.39006775e+02 7.45137817e+02 7.48694458e+02\n",
      " 7.53451904e+02 7.59948486e+02 7.65625122e+02 7.69583313e+02\n",
      " 7.76138672e+02 7.78061035e+02 7.86258728e+02 7.92583008e+02\n",
      " 7.95537476e+02 8.02108521e+02 8.07336304e+02 8.12194153e+02\n",
      " 8.17883484e+02 8.24836060e+02 8.30261475e+02 8.36183411e+02\n",
      " 8.41625671e+02 8.45431885e+02 8.53029419e+02 8.57809570e+02\n",
      " 8.62535034e+02 8.69927795e+02 8.73151001e+02 8.78707336e+02\n",
      " 8.87613159e+02 8.90647949e+02 8.96412231e+02 9.01358521e+02\n",
      " 9.08266418e+02 9.13495422e+02 9.20350159e+02 9.24112244e+02\n",
      " 9.31589355e+02 9.36193420e+02 9.44545776e+02 9.48618469e+02\n",
      " 9.53326233e+02 9.60572388e+02 9.63698120e+02 9.73140442e+02\n",
      " 9.79442810e+02 9.82627075e+02 9.90610229e+02 9.96059631e+02\n",
      " 1.00262231e+03 1.00889185e+03 1.01420001e+03 1.02049670e+03\n",
      " 1.02538281e+03 1.03335645e+03 1.04000171e+03 1.04108923e+03\n",
      " 1.04896948e+03 1.05746887e+03 1.06123828e+03 1.06765845e+03\n",
      " 1.07385327e+03 1.07863159e+03 1.08869849e+03 1.09510938e+03\n",
      " 1.09961938e+03 1.10660999e+03 1.11485425e+03 1.11508984e+03\n",
      " 1.12611060e+03 1.13105188e+03 1.13782935e+03 1.14672119e+03\n",
      " 1.14881189e+03 1.15862122e+03 1.16678113e+03 1.16555444e+03\n",
      " 1.17844824e+03 1.18440723e+03 1.18879688e+03 1.19538330e+03\n",
      " 1.20230139e+03 1.21227039e+03 1.21145618e+03 1.22568970e+03\n",
      " 1.23169849e+03 1.23917358e+03 1.24155359e+03 1.24857935e+03\n",
      " 1.25896692e+03 1.26506104e+03 1.27043750e+03 1.27344946e+03\n",
      " 1.28276794e+03 1.29176526e+03 1.29763318e+03 1.30560620e+03\n",
      " 1.31115442e+03 1.31245728e+03 1.32298389e+03 1.32971631e+03\n",
      " 1.33859021e+03 1.34566064e+03 1.35462427e+03 1.35795483e+03\n",
      " 1.36532483e+03 1.37252869e+03 1.38152356e+03 1.38720923e+03\n",
      " 1.39339050e+03 1.40262988e+03 1.40257764e+03 1.41584424e+03\n",
      " 1.41813745e+03 1.43070007e+03 1.43218201e+03 1.44368799e+03\n",
      " 1.45368494e+03 1.45484998e+03 1.46321606e+03 1.47555591e+03\n",
      " 1.48076965e+03 1.48840222e+03 1.49419275e+03 1.50363159e+03\n",
      " 1.51139062e+03 1.51812891e+03 1.52695349e+03 1.53139343e+03\n",
      " 1.53898682e+03 1.54576770e+03 1.55912427e+03 1.56381506e+03\n",
      " 1.56685144e+03 1.57326221e+03 1.58564978e+03 1.59448816e+03\n",
      " 1.59877063e+03 1.60776501e+03 1.61155591e+03 1.62344287e+03\n",
      " 1.63191589e+03 1.63876404e+03 1.64592102e+03 1.65021265e+03\n",
      " 1.66212634e+03 1.67160461e+03 1.67409888e+03 1.68722180e+03\n",
      " 1.69474072e+03 1.70124890e+03 1.70364197e+03 1.72173120e+03\n",
      " 1.73030127e+03 1.73641846e+03 1.74460828e+03 1.74877612e+03\n",
      " 1.75690771e+03 1.76433594e+03 1.76493335e+03 1.77963525e+03\n",
      " 1.79180139e+03 1.78930493e+03 1.80469946e+03 1.81191931e+03\n",
      " 1.82401294e+03 1.82308435e+03 1.83645532e+03 1.84535461e+03\n",
      " 1.85217957e+03 1.86259863e+03 1.87202441e+03 1.87776855e+03\n",
      " 1.88740515e+03 1.90093066e+03 1.90336780e+03 1.91184998e+03\n",
      " 1.91908569e+03 1.92380786e+03 1.93945215e+03 1.93815149e+03\n",
      " 1.94807104e+03 1.95949841e+03 1.96760205e+03 1.98087097e+03\n",
      " 1.98549512e+03 1.99314075e+03 2.00549231e+03 2.01369775e+03\n",
      " 2.01614771e+03 2.03030054e+03 2.04067139e+03 2.04741418e+03\n",
      " 2.04707446e+03 2.06350659e+03 2.06688647e+03 2.07873413e+03\n",
      " 2.09146069e+03 2.09443750e+03 2.10715771e+03 2.11067725e+03\n",
      " 2.12484814e+03 2.12733813e+03 2.14310620e+03 2.15181519e+03\n",
      " 2.15785181e+03 2.16398047e+03 2.18225635e+03 2.19052905e+03\n",
      " 2.19707324e+03 2.19969824e+03 2.21608911e+03 2.21848193e+03\n",
      " 2.23191797e+03 2.23250757e+03 2.25237256e+03 2.25806348e+03\n",
      " 2.26188696e+03 2.27802539e+03 2.27827197e+03 2.29408765e+03], shape=(500,), dtype=float32)\n"
     ]
    }
   ],
   "metadata": {}
  }
 ],
 "metadata": {
  "orig_nbformat": 4,
  "language_info": {
   "name": "python",
   "version": "3.9.5",
   "mimetype": "text/x-python",
   "codemirror_mode": {
    "name": "ipython",
    "version": 3
   },
   "pygments_lexer": "ipython3",
   "nbconvert_exporter": "python",
   "file_extension": ".py"
  },
  "kernelspec": {
   "name": "python3",
   "display_name": "Python 3.9.5 64-bit"
  },
  "interpreter": {
   "hash": "63fd5069d213b44bf678585dea6b12cceca9941eaf7f819626cde1f2670de90d"
  }
 },
 "nbformat": 4,
 "nbformat_minor": 2
}